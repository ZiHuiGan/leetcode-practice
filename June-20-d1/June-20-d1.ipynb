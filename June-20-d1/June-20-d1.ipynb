{
 "cells": [
  {
   "cell_type": "markdown",
   "id": "8a2ba1c3",
   "metadata": {},
   "source": [
    "# 2235. Add Two Integers"
   ]
  },
  {
   "cell_type": "markdown",
   "id": "f219a27f",
   "metadata": {},
   "source": [
    "Given two integers num1 and num2, return the sum of the two integers."
   ]
  },
  {
   "cell_type": "code",
   "execution_count": null,
   "id": "64cb3998",
   "metadata": {},
   "outputs": [],
   "source": [
    "def sum(num1, num2):\n",
    "    num12 = num1 + num2\n",
    "    return num12"
   ]
  },
  {
   "cell_type": "markdown",
   "id": "8a29c513",
   "metadata": {},
   "source": [
    "# 1920. Build Array from permuation"
   ]
  },
  {
   "cell_type": "markdown",
   "id": "ca98b172",
   "metadata": {},
   "source": [
    "- Given a zero-based permutation nums (0-indexed), build an array ans of the same length where ans[i] = nums[nums[i]] for each 0 <= i < nums.length and return it.\n",
    "\n",
    "- A zero-based permutation nums is an array of distinct integers from 0 to nums.length - 1 (inclusive)."
   ]
  },
  {
   "cell_type": "code",
   "execution_count": null,
   "id": "fcdec7b2",
   "metadata": {},
   "outputs": [],
   "source": [
    "# input\n",
    "nums =  [5,0,1,2,3,4]\n",
    "ans = [0] * len(nums)\n",
    "print(ans)"
   ]
  },
  {
   "cell_type": "code",
   "execution_count": null,
   "id": "0dbe2eb2",
   "metadata": {
    "scrolled": true
   },
   "outputs": [],
   "source": [
    "#solution\n",
    "def buildArray(nums):\n",
    "    ans = [0]*len(nums)\n",
    "    for i in range (len(nums)):\n",
    "        ans[i] = nums[nums[i]]\n",
    "    return ans"
   ]
  },
  {
   "cell_type": "code",
   "execution_count": null,
   "id": "31c7d6b0",
   "metadata": {},
   "outputs": [],
   "source": [
    "buildArray(nums)"
   ]
  },
  {
   "cell_type": "markdown",
   "id": "53293329",
   "metadata": {},
   "source": [
    "# 1929 Concatenation of array"
   ]
  },
  {
   "cell_type": "markdown",
   "id": "cb2c99c4",
   "metadata": {},
   "source": [
    "- Given an integer array nums of length n, you want to create an array ans of length 2n where ans[i] == nums[i] and ans[i + n] == nums[i] for 0 <= i < n (0-indexed).\n",
    "\n",
    "- Specifically, ans is the concatenation of two nums arrays.\n",
    "\n",
    "- Return the array ans."
   ]
  },
  {
   "cell_type": "code",
   "execution_count": 17,
   "id": "28e92d43",
   "metadata": {
    "scrolled": false
   },
   "outputs": [
    {
     "name": "stdout",
     "output_type": "stream",
     "text": [
      "3\n"
     ]
    }
   ],
   "source": [
    "#input\n",
    "ls = [1,2,1]\n",
    "# output = [1,2,1,1,2,1]\n",
    "print(len(ls))"
   ]
  },
  {
   "cell_type": "code",
   "execution_count": 18,
   "id": "5620544f",
   "metadata": {},
   "outputs": [],
   "source": [
    "#answer\n",
    "def getConcatenantion(nums):\n",
    "    for i in range(0,len(ls)):\n",
    "        nums.append(nums[i])#append a same list after the original one, 'nums'\n",
    "    return nums"
   ]
  },
  {
   "cell_type": "code",
   "execution_count": 19,
   "id": "5bc87d85",
   "metadata": {},
   "outputs": [
    {
     "name": "stdout",
     "output_type": "stream",
     "text": [
      "[1, 2, 1, 1, 2, 1]\n"
     ]
    }
   ],
   "source": [
    "ans = getConcatenantion(ls)\n",
    "print(ans)"
   ]
  },
  {
   "cell_type": "markdown",
   "id": "d463d03a",
   "metadata": {},
   "source": [
    "# 1108 Defanging an IP Address"
   ]
  },
  {
   "cell_type": "markdown",
   "id": "d7eb7b73",
   "metadata": {},
   "source": [
    "- Given a valid (IPv4) IP address, return a defanged version of that IP address.\n",
    "\n",
    "- A defanged IP address replaces every period \".\" with \"[.]\"."
   ]
  },
  {
   "cell_type": "code",
   "execution_count": 22,
   "id": "ce186c0b",
   "metadata": {},
   "outputs": [
    {
     "name": "stdout",
     "output_type": "stream",
     "text": [
      "<class 'str'>\n"
     ]
    }
   ],
   "source": [
    "#input \n",
    "address = '1.1.1.1'\n",
    "# output = \"1[.]1[.]1[.]1\"\n",
    "print(type(address))"
   ]
  },
  {
   "cell_type": "code",
   "execution_count": 25,
   "id": "e0436fd4",
   "metadata": {},
   "outputs": [
    {
     "data": {
      "text/plain": [
       "'1[.]1[.]1[.]1'"
      ]
     },
     "execution_count": 25,
     "metadata": {},
     "output_type": "execute_result"
    }
   ],
   "source": [
    "#answer\n",
    "address.replace('.', '[.]')"
   ]
  },
  {
   "cell_type": "markdown",
   "id": "adf97366",
   "metadata": {},
   "source": [
    "- string.replace(oldvalue, newvalue, count)\n",
    "\n",
    "- The count parameter is optional, and it is a number specifying how many occurrences of the old value you want to replace.\n"
   ]
  },
  {
   "cell_type": "markdown",
   "id": "22f97e61",
   "metadata": {},
   "source": [
    "# 1570 Dot product of two parse vecors"
   ]
  },
  {
   "cell_type": "markdown",
   "id": "4a1429b1",
   "metadata": {},
   "source": [
    "- Given two sparse vectors, compute their dot product.\n",
    "\n",
    "    - Implement class SparseVector:\n",
    "\n",
    "        - SparseVector(nums) Initializes the object with the vector nums\n",
    "        - dotProduct(vec) Compute the dot product between the instance of SparseVector and vec\n",
    "- A sparse vector is a vector that has mostly zero values, you should store the sparse vector efficiently and compute the dot product between two SparseVector.\n",
    "\n",
    "- Follow up: What if only one of the vectors is sparse?"
   ]
  },
  {
   "cell_type": "code",
   "execution_count": 63,
   "id": "66862cf3",
   "metadata": {},
   "outputs": [],
   "source": [
    "#input \n",
    "nums1 = [1,0,0,2,3]\n",
    "nums2 = [0,3,0,4,0]\n",
    "\n",
    "# output = 0"
   ]
  },
  {
   "cell_type": "code",
   "execution_count": 64,
   "id": "cd17e10d",
   "metadata": {},
   "outputs": [
    {
     "name": "stdout",
     "output_type": "stream",
     "text": [
      "8\n"
     ]
    }
   ],
   "source": [
    "#answer1\n",
    "result = 0\n",
    "for nums1, nums2 in zip(nums1, nums2):\n",
    "    result += (nums1 * nums2)\n",
    "print(result)"
   ]
  },
  {
   "cell_type": "code",
   "execution_count": 44,
   "id": "5e13f344",
   "metadata": {},
   "outputs": [
    {
     "name": "stdout",
     "output_type": "stream",
     "text": [
      "8\n"
     ]
    }
   ],
   "source": [
    "#answer2\n",
    "for i in range(len(nums1)):\n",
    "    result = 0\n",
    "    #print(nums1[i])\n",
    "    for i in range(len(nums2)):\n",
    "        result += nums1[i] *nums2[i]\n",
    "print(result)"
   ]
  }
 ],
 "metadata": {
  "kernelspec": {
   "display_name": "Python 3",
   "language": "python",
   "name": "python3"
  },
  "language_info": {
   "codemirror_mode": {
    "name": "ipython",
    "version": 3
   },
   "file_extension": ".py",
   "mimetype": "text/x-python",
   "name": "python",
   "nbconvert_exporter": "python",
   "pygments_lexer": "ipython3",
   "version": "3.8.8"
  }
 },
 "nbformat": 4,
 "nbformat_minor": 5
}
