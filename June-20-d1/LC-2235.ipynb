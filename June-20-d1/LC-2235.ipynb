{
 "cells": [
  {
   "cell_type": "markdown",
   "id": "8a2ba1c3",
   "metadata": {},
   "source": [
    "# 2235. Add Two Integers"
   ]
  },
  {
   "cell_type": "markdown",
   "id": "f219a27f",
   "metadata": {},
   "source": [
    "Given two integers num1 and num2, return the sum of the two integers."
   ]
  },
  {
   "cell_type": "code",
   "execution_count": 1,
   "id": "64cb3998",
   "metadata": {},
   "outputs": [],
   "source": [
    "def sum(num1, num2):\n",
    "    num12 = num1 + num2\n",
    "    return num12"
   ]
  },
  {
   "cell_type": "code",
   "execution_count": null,
   "id": "8230cf86",
   "metadata": {},
   "outputs": [],
   "source": [
    "\n",
    "\n"
   ]
  },
  {
   "cell_type": "code",
   "execution_count": null,
   "id": "f3bfc8d0",
   "metadata": {},
   "outputs": [],
   "source": []
  }
 ],
 "metadata": {
  "kernelspec": {
   "display_name": "Python 3",
   "language": "python",
   "name": "python3"
  },
  "language_info": {
   "codemirror_mode": {
    "name": "ipython",
    "version": 3
   },
   "file_extension": ".py",
   "mimetype": "text/x-python",
   "name": "python",
   "nbconvert_exporter": "python",
   "pygments_lexer": "ipython3",
   "version": "3.8.8"
  }
 },
 "nbformat": 4,
 "nbformat_minor": 5
}
