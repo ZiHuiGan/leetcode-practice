{
 "cells": [
  {
   "cell_type": "markdown",
   "id": "f4fba6ac",
   "metadata": {},
   "source": [
    "# 2235. Add Two Integers"
   ]
  },
  {
   "cell_type": "markdown",
   "id": "4e6b5efa",
   "metadata": {},
   "source": [
    "Given two integers num1 and num2, return the sum of the two integers."
   ]
  },
  {
   "cell_type": "code",
   "execution_count": 1,
   "id": "ef68bdad",
   "metadata": {},
   "outputs": [],
   "source": [
    "def sum(num1, num2):\n",
    "    num12 = num1 + num2\n",
    "    return num12"
   ]
  },
  {
   "cell_type": "code",
   "execution_count": 13,
   "id": "9e17ccec",
   "metadata": {},
   "outputs": [
    {
     "name": "stdout",
     "output_type": "stream",
     "text": [
      "5\n",
      "10\n"
     ]
    }
   ],
   "source": [
    "class Rectangle:\n",
    "    \"\"\"\n",
    "    Generate a Rectangle with width and height\n",
    "    \"\"\"\n",
    "    \n",
    "    def __init__(self, x, y):\n",
    "        \"\"\"\n",
    "        This is the constructor with x is the width and y is the height of the rectangle\n",
    "        \"\"\"\n",
    "        self.width = x\n",
    "        self.height = y\n",
    "        \n",
    "    def large(self): \n",
    "        \"\"\"\n",
    "        This is the function that enlarge the width and height of rectangle by factor of 2\n",
    "        \"\"\"\n",
    "        self.width = self.width * 2\n",
    "        self.height = self.height * 2\n",
    "        \n",
    "    def area(self):\n",
    "        return self.width * self.height\n",
    "        \n",
    "shape = Rectangle(2,5)\n",
    "print(shape.height)\n",
    "\n",
    "# shape.large() # larger original shape\n",
    "# print(shape.height)\n",
    "\n",
    "shapeArea = shape.area()\n",
    "print(shapeArea)\n",
    "\n"
   ]
  },
  {
   "cell_type": "code",
   "execution_count": null,
   "id": "bb93b739",
   "metadata": {},
   "outputs": [],
   "source": []
  }
 ],
 "metadata": {
  "kernelspec": {
   "display_name": "Python 3",
   "language": "python",
   "name": "python3"
  },
  "language_info": {
   "codemirror_mode": {
    "name": "ipython",
    "version": 3
   },
   "file_extension": ".py",
   "mimetype": "text/x-python",
   "name": "python",
   "nbconvert_exporter": "python",
   "pygments_lexer": "ipython3",
   "version": "3.8.8"
  }
 },
 "nbformat": 4,
 "nbformat_minor": 5
}
