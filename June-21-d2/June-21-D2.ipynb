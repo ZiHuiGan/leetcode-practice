{
 "cells": [
  {
   "cell_type": "markdown",
   "id": "b6fa297d",
   "metadata": {},
   "source": [
    "# 1365 How many numbers are smaller than the current number"
   ]
  },
  {
   "cell_type": "markdown",
   "id": "ec51d8c4",
   "metadata": {},
   "source": [
    "- Given the array nums, for each nums[i] find out how many numbers in the array are smaller than it. That is, for each nums[i] you have to count the number of valid j's such that j != i and nums[j] < nums[i]."
   ]
  },
  {
   "cell_type": "code",
   "execution_count": null,
   "id": "5e95e8b7",
   "metadata": {},
   "outputs": [],
   "source": [
    "# inputs\n",
    "nums1 = [8,1,2,2,3]\n",
    "#output = [4,0,1,1,3]\n"
   ]
  },
  {
   "cell_type": "code",
   "execution_count": null,
   "id": "b3a8a750",
   "metadata": {},
   "outputs": [],
   "source": [
    "# answer1\n",
    "ls1 = []\n",
    "for k in nums1:\n",
    "    count = 0\n",
    "    for i in nums1:\n",
    "        if i < k:\n",
    "            count = count +1\n",
    "    ls1.append(count)\n",
    "print(ls1)\n",
    "    "
   ]
  },
  {
   "cell_type": "code",
   "execution_count": null,
   "id": "d81d9594",
   "metadata": {
    "scrolled": true
   },
   "outputs": [],
   "source": [
    "#answer2\n",
    "result = []\n",
    "nums1.sort() # sort: [1,2,2,3,8], sort means a comparison process\n",
    "for i in nums1:\n",
    "    result.append(nums1.index(i)) \n",
    "    #The index() method returns THE POSITION at the first occurrence of the specified value.\n",
    "print(result)"
   ]
  },
  {
   "cell_type": "markdown",
   "id": "377b0ce9",
   "metadata": {},
   "source": [
    "# 1313 Decompress run-length encoded list"
   ]
  },
  {
   "cell_type": "markdown",
   "id": "96328f0a",
   "metadata": {},
   "source": [
    "- We are given a list nums of integers representing a list compressed with run-length encoding.\n",
    "\n",
    "- Consider each adjacent pair of elements [freq, val] = [nums[2*i], nums[2*i+1]] (with i >= 0).  For each such pair, there are freq elements with value val concatenated in a sublist. Concatenate all the sublists from left to right to generate the decompressed list.\n",
    "\n",
    "- Return the decompressed list."
   ]
  },
  {
   "cell_type": "code",
   "execution_count": 16,
   "id": "7249b728",
   "metadata": {},
   "outputs": [],
   "source": [
    "#input \n",
    "nums2 = [1,2,3,4]\n",
    "#Output: [2,4,4,4]\n",
    "\n",
    "# Explanation: The first pair [1,2] means we have freq = 1 and val = 2 so we generate the array [2].\n",
    "# The second pair [3,4] means we have freq = 3 and val = 4 so we generate [4,4,4].\n",
    "# At the end the concatenation [2] + [4,4,4] is [2,4,4,4].\n",
    "\n",
    "# - seperate list as pairs (no order requirements) ->  how many pairs in the list\n",
    "# - pair: [frequency, value], eg [2,3], 3 will show 2 times -> [3,3]\n",
    "# "
   ]
  },
  {
   "cell_type": "code",
   "execution_count": 20,
   "id": "32f886a9",
   "metadata": {},
   "outputs": [
    {
     "name": "stdout",
     "output_type": "stream",
     "text": [
      "['a', 'b', 'c', 'a', 'b', 'c', 'a', 'b', 'c', 'a', 'b', 'c']\n"
     ]
    }
   ],
   "source": [
    "# list multiplication\n",
    "i=4\n",
    "s = ['a', 'b', 'c'] * i\n",
    "print(s)"
   ]
  },
  {
   "cell_type": "code",
   "execution_count": 13,
   "id": "993a2875",
   "metadata": {},
   "outputs": [
    {
     "name": "stdout",
     "output_type": "stream",
     "text": [
      "[2, 4, 4, 4]\n"
     ]
    }
   ],
   "source": [
    "result2 = []\n",
    "for i in range(0,len(nums2),2):\n",
    "    #range(start, stop, step)\n",
    "    #The above range means that the loop start by 0, stop by the length of(nums) and each loop-step is 2\n",
    "    result2.extend([nums2[i+1]]*nums2[i]) #list multiplication\n",
    "    #extend() adds all the elements of an iterable (list, tuple, string etc.) to the end of the list.\n",
    "    #In each step, the loop will have nums2[i] * nums2[i+1]. \n",
    "print(result2)"
   ]
  },
  {
   "cell_type": "markdown",
   "id": "1c192766",
   "metadata": {},
   "source": [
    "# 1528 Shuffle string"
   ]
  },
  {
   "cell_type": "markdown",
   "id": "f7c47ad7",
   "metadata": {},
   "source": [
    "- You are given a string s and an integer array indices of the same length. The string s will be shuffled such that the character at the ith position moves to indices[i] in the shuffled string.\n",
    "\n",
    "- Return the shuffled string."
   ]
  },
  {
   "cell_type": "code",
   "execution_count": 74,
   "id": "621d1933",
   "metadata": {
    "scrolled": true
   },
   "outputs": [],
   "source": [
    "#Input: \n",
    "s = [\"c\",\"o\",\"d\",\"e\",\"l\",\"e\",\"e\",\"t\"]\n",
    "indices = [4,5,6,7,0,2,1,3]\n",
    "#Output: \"leetcode\"\n",
    "#Explanation: As shown, \"codeleet\" becomes \"leetcode\" after shuffling."
   ]
  },
  {
   "cell_type": "code",
   "execution_count": 21,
   "id": "578d8ba1",
   "metadata": {},
   "outputs": [
    {
     "data": {
      "text/plain": [
       "'s.length == indices.length == n\\n1 <= n <= 100\\ns consists of only lowercase English letters.\\n0 <= indices[i] < n\\nAll values of indices are unique'"
      ]
     },
     "execution_count": 21,
     "metadata": {},
     "output_type": "execute_result"
    }
   ],
   "source": [
    "#Constraints:\n",
    "\n",
    "'''s.length == indices.length == n\n",
    "1 <= n <= 100\n",
    "s consists of only lowercase English letters.\n",
    "0 <= indices[i] < n\n",
    "All values of indices are unique'''\n"
   ]
  },
  {
   "cell_type": "code",
   "execution_count": 79,
   "id": "cff4e466",
   "metadata": {},
   "outputs": [
    {
     "name": "stdout",
     "output_type": "stream",
     "text": [
      "leetcode\n"
     ]
    }
   ],
   "source": [
    "dictVars = dict(zip(indices, list(s)))\n",
    "newWord = \"\"\n",
    "for w in sorted(dictVars):\n",
    "    #print(w)\n",
    "    newWord += dictVars[w]\n",
    "print(newWord)"
   ]
  },
  {
   "cell_type": "markdown",
   "id": "1f99b585",
   "metadata": {},
   "source": [
    "# 832 Flipping the image"
   ]
  },
  {
   "cell_type": "markdown",
   "id": "544bf26b",
   "metadata": {},
   "source": [
    "- Given an n x n binary matrix image, flip the image horizontally, then invert it, and return the resulting image.\n",
    "\n",
    "    - To flip an image horizontally means that each row of the image is reversed.\n",
    "  \n",
    "        - For example, flipping [1,1,0] horizontally results in [0,1,1].\n",
    "        \n",
    "    \n",
    "    - To invert an image means that each 0 is replaced by 1, and each 1 is replaced by 0.\n",
    "\n",
    "        - For example, inverting [0,1,1] results in [1,0,0]."
   ]
  },
  {
   "cell_type": "code",
   "execution_count": 93,
   "id": "20eb995e",
   "metadata": {},
   "outputs": [],
   "source": [
    "#Input\n",
    "image = [[1,1,0],[1,0,1],[0,0,0]]\n",
    "#Output: [[1,0,0],[0,1,0],[1,1,1]]\n",
    "#Explanation: 1. reverse each row: [[0,1,1],[1,0,1],[0,0,0]].\n",
    "#Then, 2. invert the image: [[1,0,0],[0,1,0],[1,1,1]]"
   ]
  },
  {
   "cell_type": "code",
   "execution_count": 94,
   "id": "e118610f",
   "metadata": {},
   "outputs": [
    {
     "name": "stdout",
     "output_type": "stream",
     "text": [
      "[[1, 0, 0], [0, 1, 0], [1, 1, 1]]\n"
     ]
    }
   ],
   "source": [
    "len_j = len(image[0])\n",
    "for i in range(0, len(image)):\n",
    "    image[i][:] = image[i][::-1]\n",
    "#print(image)\n",
    "    for j in range(0, len_j):\n",
    "        image[i][j] = 1 - image[i][j]\n",
    "print(image)\n",
    "\n",
    "#shallow copy \n",
    "#deep copy"
   ]
  },
  {
   "cell_type": "markdown",
   "id": "6a12db53",
   "metadata": {},
   "source": [
    "# 2103 Rings and rods"
   ]
  },
  {
   "cell_type": "markdown",
   "id": "d9f5da96",
   "metadata": {},
   "source": [
    "- There are n rings and each ring is either red, green, or blue. The rings are distributed across ten rods labeled from 0 to 9.\n",
    "\n",
    "- You are given a string rings of length 2n that describes the n rings that are placed onto the rods. Every two characters in rings forms a color-position pair that is used to describe each ring where:\n",
    "\n",
    "    - The first character of the ith pair denotes the ith ring's color ('R', 'G', 'B').\n",
    "    - The second character of the ith pair denotes the rod that the ith ring is placed on ('0' to '9')."
   ]
  },
  {
   "cell_type": "markdown",
   "id": "5e34c84f",
   "metadata": {},
   "source": [
    "- For example, \"R3G2B1\" describes n == 3 rings: a red ring placed onto the rod labeled 3, a green ring placed onto the rod labeled 2, and a blue ring placed onto the rod labeled 1.\n",
    "\n",
    "- **Return the number of rods that have all three colors of rings on them**."
   ]
  },
  {
   "cell_type": "code",
   "execution_count": 102,
   "id": "763e1345",
   "metadata": {},
   "outputs": [
    {
     "name": "stdout",
     "output_type": "stream",
     "text": [
      "14\n"
     ]
    }
   ],
   "source": [
    "#input\n",
    "rings = \"B0B6G0R6R0R6G9\"\n",
    "\n",
    "#B0/B6/G0/R6/R0/R6/G9\n",
    "\n",
    "# 2n = 14/2, n= 7 (7 rings)\n",
    "# B0: 0th rod: 1 blue ring, \n",
    "# B6: 6th rod: 6 blue rings,\n",
    "# G0: 0th rod: 1 green ring,\n",
    "# R6: 6th rod: 6 red rings,\n",
    "# R0: 0th rod: 1 red rings,\n",
    "# R6: 6th rod: 1 red ring,\n",
    "# G9: 9th rod: 1 green ring\n",
    "# Total: \n",
    "# 0th rod: 1r + 1g + 1b; \n",
    "# 6th rod: 6B + 6r + 6r\n",
    "# 9th rod: 1g\n",
    "\n",
    "print(len(rings))"
   ]
  },
  {
   "cell_type": "code",
   "execution_count": 119,
   "id": "d16aa4e2",
   "metadata": {},
   "outputs": [],
   "source": [
    "from collections import defaultdict"
   ]
  },
  {
   "cell_type": "markdown",
   "id": "11327a0e",
   "metadata": {},
   "source": [
    "- The *defaultdict* is a subdivision of the dict class. Its importance lies in the fact that **it allows each new key to be given a default value based on the type of dictionary being created**.\n",
    "- A defaultdict can be created by **giving its declaration an argument that can have three values; list, set or int**. According to the **specified data type**, the dictionary is created and when any key, that does not exist in the defaultdict is added or accessed, it is assigned a default value as opposed to giving a KeyError."
   ]
  },
  {
   "cell_type": "code",
   "execution_count": 128,
   "id": "899d0931",
   "metadata": {},
   "outputs": [
    {
     "name": "stdout",
     "output_type": "stream",
     "text": [
      "0\n"
     ]
    }
   ],
   "source": [
    "# dict() vs defaultdict() deals with non-exist item in the dictionary\n",
    "dict_demo = dict()\n",
    "#print(dict_demo[3]) # when the key doesn't exist, the dictionary gives error\n",
    "\n",
    "defaultdict_demo = defaultdict(int) # must tell defaultdict that the key is integer\n",
    "print(defaultdict_demo[2])"
   ]
  },
  {
   "cell_type": "code",
   "execution_count": 132,
   "id": "fe6161dd",
   "metadata": {},
   "outputs": [],
   "source": [
    "#simulatenously iterate through rings and its corresponding rod\n",
    "# rings = \"B0/B6/G0/R6/R0/*R6*/G9\"\n",
    "count = 0\n",
    "store = defaultdict(set) #given that the same key has two different values, they are assigned to the key as a set of alues\n",
    "for ring, rod in zip(range(0, len(rings),2), range(1, len(rings),2)):\n",
    "    store[int(rings[rod])].add(rings[ring]) # .add() adds a given element to a set\n",
    "    #print(store)\n",
    "for val in store.values():\n",
    "    if len(val) == 3: #if each rod has three rings\n",
    "        count += 1 # the counter will add one\n",
    "#print(count)"
   ]
  },
  {
   "cell_type": "markdown",
   "id": "e8580207",
   "metadata": {},
   "source": [
    "- A dictionary is a collection which is ordered*, changeable and do not allow duplicates."
   ]
  }
 ],
 "metadata": {
  "kernelspec": {
   "display_name": "Python 3",
   "language": "python",
   "name": "python3"
  },
  "language_info": {
   "codemirror_mode": {
    "name": "ipython",
    "version": 3
   },
   "file_extension": ".py",
   "mimetype": "text/x-python",
   "name": "python",
   "nbconvert_exporter": "python",
   "pygments_lexer": "ipython3",
   "version": "3.8.8"
  }
 },
 "nbformat": 4,
 "nbformat_minor": 5
}
